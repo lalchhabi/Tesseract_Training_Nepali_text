{
  "nbformat": 4,
  "nbformat_minor": 0,
  "metadata": {
    "colab": {
      "name": "train_tesseract.ipynb",
      "provenance": []
    },
    "kernelspec": {
      "name": "python3",
      "display_name": "Python 3"
    },
    "language_info": {
      "name": "python"
    }
  },
  "cells": [
    {
      "cell_type": "markdown",
      "source": [
        "Install Tesseract"
      ],
      "metadata": {
        "id": "ehYnA13LqGzV"
      }
    },
    {
      "cell_type": "code",
      "execution_count": 3,
      "metadata": {
        "colab": {
          "base_uri": "https://localhost:8080/"
        },
        "id": "3c7gtCmfbxXp",
        "outputId": "60d07c38-627b-4f8d-c163-b2a5a7c49594"
      },
      "outputs": [
        {
          "output_type": "stream",
          "name": "stdout",
          "text": [
            "Reading package lists... Done\n",
            "Building dependency tree       \n",
            "Reading state information... Done\n",
            "tesseract-ocr is already the newest version (4.00~git2288-10f4998a-2).\n",
            "The following package was automatically installed and is no longer required:\n",
            "  libnvidia-common-460\n",
            "Use 'sudo apt autoremove' to remove it.\n",
            "0 upgraded, 0 newly installed, 0 to remove and 45 not upgraded.\n"
          ]
        }
      ],
      "source": [
        "!sudo apt install tesseract-ocr\n"
      ]
    },
    {
      "cell_type": "markdown",
      "source": [
        "Create Folders"
      ],
      "metadata": {
        "id": "UYt75KjLqm0F"
      }
    },
    {
      "cell_type": "code",
      "source": [
        "!mkdir fonts output train"
      ],
      "metadata": {
        "id": "k6cVmP4BqPeW",
        "colab": {
          "base_uri": "https://localhost:8080/"
        },
        "outputId": "af72aaaa-fe6f-4eb3-bc9e-33ca623517f0"
      },
      "execution_count": 4,
      "outputs": [
        {
          "output_type": "stream",
          "name": "stdout",
          "text": [
            "mkdir: cannot create directory ‘fonts’: File exists\n",
            "mkdir: cannot create directory ‘output’: File exists\n",
            "mkdir: cannot create directory ‘train’: File exists\n"
          ]
        }
      ]
    },
    {
      "cell_type": "markdown",
      "source": [
        "Upload your fonts in fonts directory"
      ],
      "metadata": {
        "id": "qxrdMhd_rBJp"
      }
    },
    {
      "cell_type": "markdown",
      "source": [
        "Get the fonts Name and Assign that fonts\n"
      ],
      "metadata": {
        "id": "7OyABCE4s-0x"
      }
    },
    {
      "cell_type": "code",
      "source": [
        "font_name = 'Mangal'"
      ],
      "metadata": {
        "id": "6Yf2U2YGqyTn"
      },
      "execution_count": 5,
      "outputs": []
    },
    {
      "cell_type": "markdown",
      "source": [
        "Mount google Drive"
      ],
      "metadata": {
        "id": "0XIQ1_imuF6h"
      }
    },
    {
      "cell_type": "code",
      "source": [
        "from google.colab import drive\n",
        "drive.mount(\"/content/gdrive\")"
      ],
      "metadata": {
        "colab": {
          "base_uri": "https://localhost:8080/"
        },
        "id": "2ixHp3niuB88",
        "outputId": "a35b8abe-7aba-4b5d-e125-42c965fce618"
      },
      "execution_count": 6,
      "outputs": [
        {
          "output_type": "stream",
          "name": "stdout",
          "text": [
            "Mounted at /content/gdrive\n"
          ]
        }
      ]
    },
    {
      "cell_type": "markdown",
      "source": [
        "Change Permission of Tesseract Folder"
      ],
      "metadata": {
        "id": "594w8qinursi"
      }
    },
    {
      "cell_type": "code",
      "source": [
        "!chmod 755 -R /content/gdrive/MyDrive/tesseract_train/tesseract/src/training/tesstrain.sh"
      ],
      "metadata": {
        "id": "TX01fcMduQyb"
      },
      "execution_count": 7,
      "outputs": []
    },
    {
      "cell_type": "markdown",
      "source": [
        "Extract the 'nep.lstm' from 'nep.traineddata'"
      ],
      "metadata": {
        "id": "2jz8uueHvM4n"
      }
    },
    {
      "cell_type": "code",
      "source": [
        "!combine_tessdata -e /content/gdrive/MyDrive/tesseract_train/tesseract/tessdata/nep.traineddata nep.lstm"
      ],
      "metadata": {
        "colab": {
          "base_uri": "https://localhost:8080/"
        },
        "id": "h7SbTbUDvG64",
        "outputId": "5ef31a7e-a018-4abc-9a54-94527ba8ece4"
      },
      "execution_count": 8,
      "outputs": [
        {
          "output_type": "stream",
          "name": "stdout",
          "text": [
            "Extracting tessdata components from /content/gdrive/MyDrive/tesseract_train/tesseract/tessdata/nep.traineddata\n",
            "Wrote nep.lstm\n",
            "Version string:4.00.00alpha:nep:synth20170629:[1,48,0,1Ct3,3,16Mp3,3Lfys64Lfx96Lrx96Lfx512O1c1]\n",
            "0:config:size=552, offset=192\n",
            "17:lstm:size=11684995, offset=744\n",
            "18:lstm-punc-dawg:size=3154, offset=11685739\n",
            "19:lstm-word-dawg:size=690242, offset=11688893\n",
            "20:lstm-number-dawg:size=162, offset=12379135\n",
            "21:lstm-unicharset:size=7024, offset=12379297\n",
            "22:lstm-recoder:size=994, offset=12386321\n",
            "23:version:size=80, offset=12387315\n"
          ]
        }
      ]
    },
    {
      "cell_type": "markdown",
      "source": [
        "**Generate Training Data**\n",
        "\n",
        "Training data will be generates inside the 'train'folder"
      ],
      "metadata": {
        "id": "01rigsCGxj4w"
      }
    },
    {
      "cell_type": "code",
      "source": [
        "!rm -rf train/*\n",
        "! /content/gdrive/MyDrive/tesseract_train/tesseract/src/training/tesstrain.sh --fonts_dir fonts \\\n",
        "  --fontlist '{font_name}' \\\n",
        "  --lang nep \\\n",
        "  --linedata_only \\\n",
        "  --langdata_dir /content/gdrive/MyDrive/tesseract_train/langdata_lstm_main \\\n",
        "  --tessdata_dir /content/gdrive/MyDrive/tesseract_train/tesseract/tessdata \\\n",
        "  --save_box_tiff \\\n",
        "  --maxpages 10 \\\n",
        "  --output_dir train\n"
      ],
      "metadata": {
        "colab": {
          "base_uri": "https://localhost:8080/"
        },
        "id": "BxF5VVrNxdo0",
        "outputId": "91369557-3cc6-4486-bb61-708047491f7b"
      },
      "execution_count": 9,
      "outputs": [
        {
          "output_type": "stream",
          "name": "stdout",
          "text": [
            "\n",
            "=== Starting training for language 'nep'\n",
            "[Mon Jun 6 04:59:39 UTC 2022] /usr/bin/text2image --fonts_dir=fonts --ptsize 12 --font=Mangal --outputbase=/tmp/font_tmp.7FMH8zT59s/sample_text.txt --text=/tmp/font_tmp.7FMH8zT59s/sample_text.txt --fontconfig_tmpdir=/tmp/font_tmp.7FMH8zT59s\n",
            "Stripped 1 unrenderable words\n",
            "Rendered page 0 to file /tmp/font_tmp.7FMH8zT59s/sample_text.txt.tif\n",
            "\n",
            "=== Phase I: Generating training images ===\n",
            "Rendering using Mangal\n",
            "[Mon Jun 6 04:59:41 UTC 2022] /usr/bin/text2image --fontconfig_tmpdir=/tmp/font_tmp.7FMH8zT59s --fonts_dir=fonts --strip_unrenderable_words --leading=32 --xsize=3600 --char_spacing=0.0 --exposure=0 --outputbase=/tmp/nep-2022-06-06.479/nep.Mangal.exp0 --max_pages=10 --font=Mangal --ptsize 12 --text=/content/gdrive/MyDrive/tesseract_train/langdata_lstm_main/nep/nep.training_text\n",
            "Stripped 23 unrenderable words\n",
            "Rendered page 0 to file /tmp/nep-2022-06-06.479/nep.Mangal.exp0.tif\n",
            "Stripped 30 unrenderable words\n",
            "Rendered page 1 to file /tmp/nep-2022-06-06.479/nep.Mangal.exp0.tif\n",
            "Stripped 22 unrenderable words\n",
            "Rendered page 2 to file /tmp/nep-2022-06-06.479/nep.Mangal.exp0.tif\n",
            "Stripped 23 unrenderable words\n",
            "Rendered page 3 to file /tmp/nep-2022-06-06.479/nep.Mangal.exp0.tif\n",
            "Stripped 23 unrenderable words\n",
            "Rendered page 4 to file /tmp/nep-2022-06-06.479/nep.Mangal.exp0.tif\n",
            "Stripped 16 unrenderable words\n",
            "Rendered page 5 to file /tmp/nep-2022-06-06.479/nep.Mangal.exp0.tif\n",
            "Stripped 31 unrenderable words\n",
            "Rendered page 6 to file /tmp/nep-2022-06-06.479/nep.Mangal.exp0.tif\n",
            "Stripped 28 unrenderable words\n",
            "Rendered page 7 to file /tmp/nep-2022-06-06.479/nep.Mangal.exp0.tif\n",
            "Stripped 22 unrenderable words\n",
            "Rendered page 8 to file /tmp/nep-2022-06-06.479/nep.Mangal.exp0.tif\n",
            "Stripped 24 unrenderable words\n",
            "Rendered page 9 to file /tmp/nep-2022-06-06.479/nep.Mangal.exp0.tif\n",
            "\n",
            "=== Phase UP: Generating unicharset and unichar properties files ===\n",
            "[Mon Jun 6 04:59:49 UTC 2022] /usr/bin/unicharset_extractor --output_unicharset /tmp/nep-2022-06-06.479/nep.unicharset --norm_mode 2 /tmp/nep-2022-06-06.479/nep.Mangal.exp0.box\n",
            "Extracting unicharset from box file /tmp/nep-2022-06-06.479/nep.Mangal.exp0.box\n",
            "Wrote unicharset file /tmp/nep-2022-06-06.479/nep.unicharset\n",
            "[Mon Jun 6 04:59:49 UTC 2022] /usr/bin/set_unicharset_properties -U /tmp/nep-2022-06-06.479/nep.unicharset -O /tmp/nep-2022-06-06.479/nep.unicharset -X /tmp/nep-2022-06-06.479/nep.xheights --script_dir=/content/gdrive/MyDrive/tesseract_train/langdata_lstm_main\n",
            "Loaded unicharset of size 102 from file /tmp/nep-2022-06-06.479/nep.unicharset\n",
            "Setting unichar properties\n",
            "Setting script properties\n",
            "Failed to load script unicharset from:/content/gdrive/MyDrive/tesseract_train/langdata_lstm_main/Devanagari.unicharset\n",
            "Failed to load script unicharset from:/content/gdrive/MyDrive/tesseract_train/langdata_lstm_main/Inherited.unicharset\n",
            "Warning: properties incomplete for index 3 = प\n",
            "Warning: properties incomplete for index 4 = श\n",
            "Warning: properties incomplete for index 5 = ्\n",
            "Warning: properties incomplete for index 6 = च\n",
            "Warning: properties incomplete for index 7 = ि\n",
            "Warning: properties incomplete for index 8 = म\n",
            "Warning: properties incomplete for index 9 = ा\n",
            "Warning: properties incomplete for index 10 = घ\n",
            "Warning: properties incomplete for index 12 = ६\n",
            "Warning: properties incomplete for index 13 = २\n",
            "Warning: properties incomplete for index 14 = ०\n",
            "Warning: properties incomplete for index 15 = ७\n",
            "Warning: properties incomplete for index 16 = ३\n",
            "Warning: properties incomplete for index 17 = ध\n",
            "Warning: properties incomplete for index 18 = ल\n",
            "Warning: properties incomplete for index 19 = स\n",
            "Warning: properties incomplete for index 20 = ं\n",
            "Warning: properties incomplete for index 21 = ग\n",
            "Warning: properties incomplete for index 22 = ब\n",
            "Warning: properties incomplete for index 23 = न\n",
            "Warning: properties incomplete for index 24 = उ\n",
            "Warning: properties incomplete for index 25 = द\n",
            "Warning: properties incomplete for index 26 = ु\n",
            "Warning: properties incomplete for index 27 = ई\n",
            "Warning: properties incomplete for index 28 = व\n",
            "Warning: properties incomplete for index 29 = ट\n",
            "Warning: properties incomplete for index 30 = भ\n",
            "Warning: properties incomplete for index 31 = ए\n",
            "Warning: properties incomplete for index 32 = क\n",
            "Warning: properties incomplete for index 33 = ो\n",
            "Warning: properties incomplete for index 34 = य\n",
            "Warning: properties incomplete for index 35 = र\n",
            "Warning: properties incomplete for index 36 = ी\n",
            "Warning: properties incomplete for index 37 = ह\n",
            "Warning: properties incomplete for index 38 = े\n",
            "Warning: properties incomplete for index 39 = ड\n",
            "Warning: properties incomplete for index 40 = इ\n",
            "Warning: properties incomplete for index 41 = छ\n",
            "Warning: properties incomplete for index 42 = फ\n",
            "Warning: properties incomplete for index 43 = ्‌\n",
            "Warning: properties incomplete for index 45 = ँ\n",
            "Warning: properties incomplete for index 46 = ै\n",
            "Warning: properties incomplete for index 47 = अ\n",
            "Warning: properties incomplete for index 48 = थ\n",
            "Warning: properties incomplete for index 49 = ू\n",
            "Warning: properties incomplete for index 51 = ऐ\n",
            "Warning: properties incomplete for index 52 = त\n",
            "Warning: properties incomplete for index 53 = ङ\n",
            "Warning: properties incomplete for index 54 = ज\n",
            "Warning: properties incomplete for index 55 = ख\n",
            "Warning: properties incomplete for index 56 = ठ\n",
            "Warning: properties incomplete for index 57 = ौ\n",
            "Warning: properties incomplete for index 58 = ५\n",
            "Warning: properties incomplete for index 63 = ष\n",
            "Warning: properties incomplete for index 64 = आ\n",
            "Warning: properties incomplete for index 66 = ण\n",
            "Warning: properties incomplete for index 67 = १\n",
            "Warning: properties incomplete for index 69 = ९\n",
            "Warning: properties incomplete for index 70 = ॑\n",
            "Warning: properties incomplete for index 71 = ओ\n",
            "Warning: properties incomplete for index 72 = ृ\n",
            "Warning: properties incomplete for index 73 = ञ\n",
            "Warning: properties incomplete for index 74 = ढ\n",
            "Warning: properties incomplete for index 79 = औ\n",
            "Warning: properties incomplete for index 84 = ः\n",
            "Warning: properties incomplete for index 85 = ८\n",
            "Warning: properties incomplete for index 87 = झ\n",
            "Warning: properties incomplete for index 95 = ॒\n",
            "Warning: properties incomplete for index 100 = ४\n",
            "Writing unicharset to file /tmp/nep-2022-06-06.479/nep.unicharset\n",
            "\n",
            "=== Phase E: Generating lstmf files ===\n",
            "Using TESSDATA_PREFIX=/content/gdrive/MyDrive/tesseract_train/tesseract/tessdata\n",
            "[Mon Jun 6 04:59:49 UTC 2022] /usr/bin/tesseract /tmp/nep-2022-06-06.479/nep.Mangal.exp0.tif /tmp/nep-2022-06-06.479/nep.Mangal.exp0 --psm 6 lstm.train /content/gdrive/MyDrive/tesseract_train/langdata_lstm_main/nep/nep.config\n",
            "Tesseract Open Source OCR Engine v4.0.0-beta.1 with Leptonica\n",
            "Page 1\n",
            "Page 2\n",
            "Loaded 39/39 pages (1-39) of document /tmp/nep-2022-06-06.479/nep.Mangal.exp0.lstmf\n",
            "Page 3\n",
            "Loaded 78/78 pages (1-78) of document /tmp/nep-2022-06-06.479/nep.Mangal.exp0.lstmf\n",
            "Page 4\n",
            "Loaded 117/117 pages (1-117) of document /tmp/nep-2022-06-06.479/nep.Mangal.exp0.lstmf\n",
            "Page 5\n",
            "Loaded 156/156 pages (1-156) of document /tmp/nep-2022-06-06.479/nep.Mangal.exp0.lstmf\n",
            "Page 6\n",
            "Loaded 195/195 pages (1-195) of document /tmp/nep-2022-06-06.479/nep.Mangal.exp0.lstmf\n",
            "Page 7\n",
            "Loaded 234/234 pages (1-234) of document /tmp/nep-2022-06-06.479/nep.Mangal.exp0.lstmf\n",
            "Page 8\n",
            "Loaded 273/273 pages (1-273) of document /tmp/nep-2022-06-06.479/nep.Mangal.exp0.lstmf\n",
            "Page 9\n",
            "Loaded 312/312 pages (1-312) of document /tmp/nep-2022-06-06.479/nep.Mangal.exp0.lstmf\n",
            "Page 10\n",
            "Loaded 351/351 pages (1-351) of document /tmp/nep-2022-06-06.479/nep.Mangal.exp0.lstmf\n",
            "\n",
            "=== Constructing LSTM training data ===\n",
            "[Mon Jun 6 04:59:59 UTC 2022] /usr/bin/combine_lang_model --input_unicharset /tmp/nep-2022-06-06.479/nep.unicharset --script_dir /content/gdrive/MyDrive/tesseract_train/langdata_lstm_main --words /content/gdrive/MyDrive/tesseract_train/langdata_lstm_main/nep/nep.wordlist --numbers /content/gdrive/MyDrive/tesseract_train/langdata_lstm_main/nep/nep.numbers --puncs /content/gdrive/MyDrive/tesseract_train/langdata_lstm_main/nep/nep.punc --output_dir train --lang nep --pass_through_recoder\n",
            "Loaded unicharset of size 102 from file /tmp/nep-2022-06-06.479/nep.unicharset\n",
            "Setting unichar properties\n",
            "Setting script properties\n",
            "Failed to load script unicharset from:/content/gdrive/MyDrive/tesseract_train/langdata_lstm_main/Devanagari.unicharset\n",
            "Failed to load script unicharset from:/content/gdrive/MyDrive/tesseract_train/langdata_lstm_main/Inherited.unicharset\n",
            "Warning: properties incomplete for index 3 = प\n",
            "Warning: properties incomplete for index 4 = श\n",
            "Warning: properties incomplete for index 5 = ्\n",
            "Warning: properties incomplete for index 6 = च\n",
            "Warning: properties incomplete for index 7 = ि\n",
            "Warning: properties incomplete for index 8 = म\n",
            "Warning: properties incomplete for index 9 = ा\n",
            "Warning: properties incomplete for index 10 = घ\n",
            "Warning: properties incomplete for index 12 = ६\n",
            "Warning: properties incomplete for index 13 = २\n",
            "Warning: properties incomplete for index 14 = ०\n",
            "Warning: properties incomplete for index 15 = ७\n",
            "Warning: properties incomplete for index 16 = ३\n",
            "Warning: properties incomplete for index 17 = ध\n",
            "Warning: properties incomplete for index 18 = ल\n",
            "Warning: properties incomplete for index 19 = स\n",
            "Warning: properties incomplete for index 20 = ं\n",
            "Warning: properties incomplete for index 21 = ग\n",
            "Warning: properties incomplete for index 22 = ब\n",
            "Warning: properties incomplete for index 23 = न\n",
            "Warning: properties incomplete for index 24 = उ\n",
            "Warning: properties incomplete for index 25 = द\n",
            "Warning: properties incomplete for index 26 = ु\n",
            "Warning: properties incomplete for index 27 = ई\n",
            "Warning: properties incomplete for index 28 = व\n",
            "Warning: properties incomplete for index 29 = ट\n",
            "Warning: properties incomplete for index 30 = भ\n",
            "Warning: properties incomplete for index 31 = ए\n",
            "Warning: properties incomplete for index 32 = क\n",
            "Warning: properties incomplete for index 33 = ो\n",
            "Warning: properties incomplete for index 34 = य\n",
            "Warning: properties incomplete for index 35 = र\n",
            "Warning: properties incomplete for index 36 = ी\n",
            "Warning: properties incomplete for index 37 = ह\n",
            "Warning: properties incomplete for index 38 = े\n",
            "Warning: properties incomplete for index 39 = ड\n",
            "Warning: properties incomplete for index 40 = इ\n",
            "Warning: properties incomplete for index 41 = छ\n",
            "Warning: properties incomplete for index 42 = फ\n",
            "Warning: properties incomplete for index 43 = ्‌\n",
            "Warning: properties incomplete for index 45 = ँ\n",
            "Warning: properties incomplete for index 46 = ै\n",
            "Warning: properties incomplete for index 47 = अ\n",
            "Warning: properties incomplete for index 48 = थ\n",
            "Warning: properties incomplete for index 49 = ू\n",
            "Warning: properties incomplete for index 51 = ऐ\n",
            "Warning: properties incomplete for index 52 = त\n",
            "Warning: properties incomplete for index 53 = ङ\n",
            "Warning: properties incomplete for index 54 = ज\n",
            "Warning: properties incomplete for index 55 = ख\n",
            "Warning: properties incomplete for index 56 = ठ\n",
            "Warning: properties incomplete for index 57 = ौ\n",
            "Warning: properties incomplete for index 58 = ५\n",
            "Warning: properties incomplete for index 63 = ष\n",
            "Warning: properties incomplete for index 64 = आ\n",
            "Warning: properties incomplete for index 66 = ण\n",
            "Warning: properties incomplete for index 67 = १\n",
            "Warning: properties incomplete for index 69 = ९\n",
            "Warning: properties incomplete for index 70 = ॑\n",
            "Warning: properties incomplete for index 71 = ओ\n",
            "Warning: properties incomplete for index 72 = ृ\n",
            "Warning: properties incomplete for index 73 = ञ\n",
            "Warning: properties incomplete for index 74 = ढ\n",
            "Warning: properties incomplete for index 79 = औ\n",
            "Warning: properties incomplete for index 84 = ः\n",
            "Warning: properties incomplete for index 85 = ८\n",
            "Warning: properties incomplete for index 87 = झ\n",
            "Warning: properties incomplete for index 95 = ॒\n",
            "Warning: properties incomplete for index 100 = ४\n",
            "Config file is optional, continuing...\n",
            "Reducing Trie to SquishedDawg\n",
            "Reducing Trie to SquishedDawg\n",
            "Reducing Trie to SquishedDawg\n",
            "\n",
            "=== Saving box/tiff pairs for training data ===\n",
            "Moving /tmp/nep-2022-06-06.479/nep.Mangal.exp0.box to train\n",
            "Moving /tmp/nep-2022-06-06.479/nep.Mangal.exp0.tif to train\n",
            "\n",
            "=== Moving lstmf files for training data ===\n",
            "Moving /tmp/nep-2022-06-06.479/nep.Mangal.exp0.lstmf to train\n",
            "\n",
            "Created starter traineddata for LSTM training of language 'nep'\n",
            "\n",
            "\n",
            "Run 'lstmtraining' command to continue LSTM training for language 'nep'\n",
            "\n"
          ]
        }
      ]
    },
    {
      "cell_type": "markdown",
      "source": [
        "Finetune "
      ],
      "metadata": {
        "id": "O-l8cqP1tIVv"
      }
    },
    {
      "cell_type": "code",
      "source": [
        "%%shell\n",
        "\n",
        "rm -rf output/* \n",
        "OMP_THREAD_LIMIT=16 lstmtraining \\\n",
        "\t--continue_from nep.lstm \\\n",
        "\t--model_output output/font_name \\\n",
        "\t--traineddata /content/gdrive/MyDrive/tesseract_train/tesseract/tessdata/nep.traineddata \\\n",
        "\t--train_listfile train/nep.training_files.txt \\\n",
        "\t--max_iterations 200"
      ],
      "metadata": {
        "id": "sRtIQ9_5zAaP",
        "colab": {
          "base_uri": "https://localhost:8080/"
        },
        "outputId": "abf977bd-3b23-47f0-a883-ea4c2cf78002"
      },
      "execution_count": 10,
      "outputs": [
        {
          "output_type": "stream",
          "name": "stdout",
          "text": [
            "Loaded file nep.lstm, unpacking...\n",
            "Warning: LSTMTrainer deserialized an LSTMRecognizer!\n",
            "Continuing from nep.lstm\n",
            "Loaded 390/390 pages (1-390) of document train/nep.Mangal.exp0.lstmf\n",
            "2 Percent improvement time=46, best error was 100 @ 0\n",
            "At iteration 46/100/100, Mean rms=0.481%, delta=0.392%, char train=1.149%, word train=3.775%, skip ratio=0%,  New best char error = 1.149 Transitioned to stage 1 wrote best model:output/font_name1.149_46.checkpoint wrote checkpoint.\n",
            "\n",
            "2 Percent improvement time=85, best error was 100 @ 0\n",
            "At iteration 85/200/200, Mean rms=0.45%, delta=0.322%, char train=0.953%, word train=3.271%, skip ratio=0%,  New best char error = 0.953 wrote best model:output/font_name0.953_85.checkpoint wrote checkpoint.\n",
            "\n",
            "Finished! Error rate = 0.953\n"
          ]
        },
        {
          "output_type": "execute_result",
          "data": {
            "text/plain": [
              ""
            ]
          },
          "metadata": {},
          "execution_count": 10
        }
      ]
    },
    {
      "cell_type": "markdown",
      "source": [
        "##**Get Trained Data**\n",
        "This command will create trained data from fontname.checkpoint\n",
        "This will be inside Output folder"
      ],
      "metadata": {
        "id": "lv7Xn2A8aVE3"
      }
    },
    {
      "cell_type": "code",
      "source": [
        "%%shell\n",
        "\n",
        "lstmtraining --stop_training \\\n",
        "\t--continue_from output/font_name_checkpoint \\\n",
        "\t--traineddata /content/gdrive/MyDrive/tesseract_train/tesseract/tessdata/nep.traineddata \\\n",
        "\t--model_output output/font_name.traineddata"
      ],
      "metadata": {
        "colab": {
          "base_uri": "https://localhost:8080/"
        },
        "id": "hioUoWAMYpkY",
        "outputId": "01ae35a8-a424-404e-bc49-c68480d2a85f"
      },
      "execution_count": 11,
      "outputs": [
        {
          "output_type": "stream",
          "name": "stdout",
          "text": [
            "Loaded file output/font_name_checkpoint, unpacking...\n"
          ]
        },
        {
          "output_type": "execute_result",
          "data": {
            "text/plain": [
              ""
            ]
          },
          "metadata": {},
          "execution_count": 11
        }
      ]
    },
    {
      "cell_type": "code",
      "source": [
        ""
      ],
      "metadata": {
        "id": "yjwVGwAsbkh3"
      },
      "execution_count": null,
      "outputs": []
    }
  ]
}